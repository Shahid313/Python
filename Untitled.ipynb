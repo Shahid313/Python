{
 "cells": [
  {
   "cell_type": "code",
   "execution_count": 14,
   "id": "mighty-class",
   "metadata": {},
   "outputs": [
    {
     "data": {
      "text/plain": [
       "'Importing the necessary Libraries'"
      ]
     },
     "execution_count": 14,
     "metadata": {},
     "output_type": "execute_result"
    }
   ],
   "source": [
    "import pandas as pd\n",
    "import numpy as np\n",
    "\n",
    "\"\"\"Importing the necessary Libraries\"\"\"\n",
    "# import nltk\n",
    "# import re\n",
    "# from nltk.corpus import stopwords\n",
    "# from nltk.stem import WordNetLemmatizer\n",
    "# from gensim.models import Word2Vec"
   ]
  },
  {
   "cell_type": "code",
   "execution_count": 5,
   "id": "amended-photography",
   "metadata": {},
   "outputs": [],
   "source": [
    "dataset=pd.read_excel(\"training_set.xlsx\")"
   ]
  },
  {
   "cell_type": "code",
   "execution_count": 17,
   "id": "lovely-principle",
   "metadata": {},
   "outputs": [
    {
     "data": {
      "text/plain": [
       "\"Dear local newspaper, I think effects computers have on people are great learning skills/affects because they give us time to chat with friends/new people, helps us learn about the globe(astronomy) and keeps us out of troble! Thing about! Dont you think so? How would you feel if your teenager is always on the phone with friends! Do you ever time to chat with your friends or buisness partner about things. Well now - there's a new way to chat the computer, theirs plenty of sites on the internet to do so: @ORGANIZATION1, @ORGANIZATION2, @CAPS1, facebook, myspace ect. Just think now while your setting up meeting with your boss on the computer, your teenager is having fun on the phone not rushing to get off cause you want to use it. How did you learn about other countrys/states outside of yours? Well I have by computer/internet, it's a new way to learn about what going on in our time! You might think your child spends a lot of time on the computer, but ask them so question about the economy, sea floor spreading or even about the @DATE1's you'll be surprise at how much he/she knows. Believe it or not the computer is much interesting then in class all day reading out of books. If your child is home on your computer or at a local library, it's better than being out with friends being fresh, or being perpressured to doing something they know isnt right. You might not know where your child is, @CAPS2 forbidde in a hospital bed because of a drive-by. Rather than your child on the computer learning, chatting or just playing games, safe and sound in your home or community place. Now I hope you have reached a point to understand and agree with me, because computers can have great effects on you or child because it gives us time to chat with friends/new people, helps us learn about the globe and believe or not keeps us out of troble. Thank you for listening.\""
      ]
     },
     "execution_count": 17,
     "metadata": {},
     "output_type": "execute_result"
    }
   ],
   "source": [
    "X=dataset[['essay_set','essay']]\n",
    "X.drop(6973,axis=0,inplace=True)"
   ]
  },
  {
   "cell_type": "code",
   "execution_count": 9,
   "id": "binding-dairy",
   "metadata": {},
   "outputs": [],
   "source": [
    "\"\"\"Target Variable\"\"\"\n",
    "Y=dataset['domain1_score']\n",
    "Y.dropna(inplace=True)"
   ]
  },
  {
   "cell_type": "code",
   "execution_count": 10,
   "id": "south-killing",
   "metadata": {},
   "outputs": [
    {
     "data": {
      "text/plain": [
       "\"Do you think computers effect people's society? Computers help people of age first, computers let you chat with friends and family. Also, computers let you learn a lot about history. Finally, computer is a great way to keep busy. First computer is a great way to chat with friend that you havent spoke to in a long time. Also, it helps you meet new friends and to keep in touch with them in the long run. Finally the computer technologies is outstanding cause it allows you to chat with family memebers across state through video chat or even websites such as myspace, facebook and twitter. Secondly, @ORGANIZATION1 is a great way to learn about history. You can find history on almost everything from the past to the present. You can learn history about famous people places and events. That why I think the computer technologie is so outstanding what you think will happen if we didnt have today? Finally, computer is a great way to keep busy because you take the time looking up information for school projects. Also, you can spent your spare time playing games that help you learn or even book flight ticket for vacation. Finally, the technologie is here for a reason so we should use it for anything like getting up with friends or jus going on to look up information on anything you need to find out. In conclusion, I just told you why computer technologie is good to have. First, it lets you friends and family. Also, computers let you learn a lot about history. Finally, computer is a great way to keep busy. Now I just told you why @ORGANIZATION1 technologie is a good thing to have. I hope agree with my point of view.\""
      ]
     },
     "execution_count": 10,
     "metadata": {},
     "output_type": "execute_result"
    }
   ],
   "source": [
    "\"\"\"Viewing one of the essays\"\"\"\n",
    "X.essay[66]"
   ]
  },
  {
   "cell_type": "code",
   "execution_count": null,
   "id": "unavailable-demand",
   "metadata": {},
   "outputs": [],
   "source": []
  }
 ],
 "metadata": {
  "kernelspec": {
   "display_name": "Python 3",
   "language": "python",
   "name": "python3"
  },
  "language_info": {
   "codemirror_mode": {
    "name": "ipython",
    "version": 3
   },
   "file_extension": ".py",
   "mimetype": "text/x-python",
   "name": "python",
   "nbconvert_exporter": "python",
   "pygments_lexer": "ipython3",
   "version": "3.9.0"
  }
 },
 "nbformat": 4,
 "nbformat_minor": 5
}
